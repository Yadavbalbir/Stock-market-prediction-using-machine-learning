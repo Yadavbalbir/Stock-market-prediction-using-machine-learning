{
 "cells": [
  {
   "cell_type": "markdown",
   "metadata": {
    "id": "97ZxOrOMcMb6"
   },
   "source": [
    "## Linear Regression"
   ]
  },
  {
   "cell_type": "code",
   "execution_count": 2,
   "metadata": {
    "id": "cbG4E9NjBxJi"
   },
   "outputs": [],
   "source": [
    "import pandas as pd\n",
    "import numpy as np\n",
    "import matplotlib.pyplot as plt\n",
    "from sklearn import preprocessing\n",
    "from sklearn import linear_model\n",
    "from sklearn.model_selection import train_test_split"
   ]
  },
  {
   "cell_type": "code",
   "execution_count": 3,
   "metadata": {
    "colab": {
     "base_uri": "https://localhost:8080/",
     "height": 206
    },
    "id": "_LIVx6j8B-yo",
    "outputId": "14c8a056-330d-44fd-89fd-33d4e83f7a0e"
   },
   "outputs": [
    {
     "data": {
      "text/html": [
       "<div>\n",
       "<style scoped>\n",
       "    .dataframe tbody tr th:only-of-type {\n",
       "        vertical-align: middle;\n",
       "    }\n",
       "\n",
       "    .dataframe tbody tr th {\n",
       "        vertical-align: top;\n",
       "    }\n",
       "\n",
       "    .dataframe thead th {\n",
       "        text-align: right;\n",
       "    }\n",
       "</style>\n",
       "<table border=\"1\" class=\"dataframe\">\n",
       "  <thead>\n",
       "    <tr style=\"text-align: right;\">\n",
       "      <th></th>\n",
       "      <th>Date</th>\n",
       "      <th>Open</th>\n",
       "      <th>High</th>\n",
       "      <th>Low</th>\n",
       "      <th>Close</th>\n",
       "      <th>Adj Close</th>\n",
       "      <th>Volume</th>\n",
       "    </tr>\n",
       "  </thead>\n",
       "  <tbody>\n",
       "    <tr>\n",
       "      <th>0</th>\n",
       "      <td>2015-05-28</td>\n",
       "      <td>32.965000</td>\n",
       "      <td>32.987499</td>\n",
       "      <td>32.775002</td>\n",
       "      <td>32.945000</td>\n",
       "      <td>30.031921</td>\n",
       "      <td>122933200</td>\n",
       "    </tr>\n",
       "    <tr>\n",
       "      <th>1</th>\n",
       "      <td>2015-05-29</td>\n",
       "      <td>32.807499</td>\n",
       "      <td>32.862499</td>\n",
       "      <td>32.474998</td>\n",
       "      <td>32.570000</td>\n",
       "      <td>29.690079</td>\n",
       "      <td>203538000</td>\n",
       "    </tr>\n",
       "    <tr>\n",
       "      <th>2</th>\n",
       "      <td>2015-06-01</td>\n",
       "      <td>32.570000</td>\n",
       "      <td>32.847500</td>\n",
       "      <td>32.512501</td>\n",
       "      <td>32.634998</td>\n",
       "      <td>29.749327</td>\n",
       "      <td>128451200</td>\n",
       "    </tr>\n",
       "    <tr>\n",
       "      <th>3</th>\n",
       "      <td>2015-06-02</td>\n",
       "      <td>32.465000</td>\n",
       "      <td>32.665001</td>\n",
       "      <td>32.330002</td>\n",
       "      <td>32.490002</td>\n",
       "      <td>29.617155</td>\n",
       "      <td>134670400</td>\n",
       "    </tr>\n",
       "    <tr>\n",
       "      <th>4</th>\n",
       "      <td>2015-06-03</td>\n",
       "      <td>32.665001</td>\n",
       "      <td>32.735001</td>\n",
       "      <td>32.474998</td>\n",
       "      <td>32.529999</td>\n",
       "      <td>29.653614</td>\n",
       "      <td>123934000</td>\n",
       "    </tr>\n",
       "  </tbody>\n",
       "</table>\n",
       "</div>"
      ],
      "text/plain": [
       "         Date       Open       High        Low      Close  Adj Close  \\\n",
       "0  2015-05-28  32.965000  32.987499  32.775002  32.945000  30.031921   \n",
       "1  2015-05-29  32.807499  32.862499  32.474998  32.570000  29.690079   \n",
       "2  2015-06-01  32.570000  32.847500  32.512501  32.634998  29.749327   \n",
       "3  2015-06-02  32.465000  32.665001  32.330002  32.490002  29.617155   \n",
       "4  2015-06-03  32.665001  32.735001  32.474998  32.529999  29.653614   \n",
       "\n",
       "      Volume  \n",
       "0  122933200  \n",
       "1  203538000  \n",
       "2  128451200  \n",
       "3  134670400  \n",
       "4  123934000  "
      ]
     },
     "execution_count": 3,
     "metadata": {},
     "output_type": "execute_result"
    }
   ],
   "source": [
    "df = pd.read_csv('AAPL.csv')\n",
    "df.head()"
   ]
  },
  {
   "cell_type": "code",
   "execution_count": 100,
   "metadata": {
    "id": "MC2autfBbCOD"
   },
   "outputs": [],
   "source": [
    "def prepare_data(df,forecast_col,forecast_out,test_size):\n",
    "    label = df[forecast_col].shift(-forecast_out)#creating new column called label with the last 5 rows are nan\n",
    "    X = np.array(df[[forecast_col]]) #creating the feature array\n",
    "    X = preprocessing.scale(X) #processing the feature array\n",
    "    X_lately = X[-forecast_out:] #creating the column i want to use later in the predicting method\n",
    "    X = X[:-forecast_out] # X that will contain the training and testing\n",
    "    label.dropna(inplace=True) #dropping na values\n",
    "    y = np.array(label)  # assigning Y\n",
    "    X_train, X_test, Y_train, Y_test = train_test_split(X, y, test_size=test_size) #cross validation \n",
    "\n",
    "    response = [X_train,X_test , Y_train, Y_test , X_lately]\n",
    "    return response"
   ]
  },
  {
   "cell_type": "code",
   "execution_count": 99,
   "metadata": {
    "colab": {
     "base_uri": "https://localhost:8080/"
    },
    "id": "q1Jbr6ZSbMVu",
    "outputId": "fd7ff855-4b2c-4cc0-cdd7-648845f372d5"
   },
   "outputs": [
    {
     "name": "stdout",
     "output_type": "stream",
     "text": [
      "{'test_score': 0.9839825556009695, 'forecast_set': array([80.19112226, 79.59261291, 80.10562207, 79.56243703, 79.90946423])}\n"
     ]
    }
   ],
   "source": [
    "forecast_col = 'Close' #choosing which column to forecast\n",
    "forecast_out = 5 #how far to forecast \n",
    "test_size = 0.2 #the size of my test set\n",
    "\n",
    "X_train, X_test, Y_train, Y_test , X_lately =prepare_data(df,forecast_col,forecast_out,test_size); #calling the method were the cross validation and data preperation is in\n",
    "\n",
    "learner = linear_model.LinearRegression() #initializing linear regression model\n",
    "\n",
    "learner.fit(X_train,Y_train) #training the linear regression model\n",
    "score=learner.score(X_test,Y_test)#testing the linear regression model\n",
    "\n",
    "forecast= learner.predict(X_lately) #set that will contain the forecasted data\n",
    "\n",
    "response={} #creating json object\n",
    "response['test_score']=score\n",
    "response['forecast_set']=forecast\n",
    "\n",
    "print(response);\n"
   ]
  },
  {
   "cell_type": "markdown",
   "metadata": {
    "id": "8dQWUpDccHra"
   },
   "source": [
    "## SVM"
   ]
  },
  {
   "cell_type": "code",
   "execution_count": 120,
   "metadata": {
    "id": "xxdGB4lVK2C_"
   },
   "outputs": [],
   "source": [
    "from sklearn.svm import SVR\n",
    "from sklearn.metrics import  accuracy_score"
   ]
  },
  {
   "cell_type": "code",
   "execution_count": 121,
   "metadata": {
    "id": "ad7bKE-SecVb"
   },
   "outputs": [],
   "source": [
    "# Split the data into 80% training and 20% testing\n",
    "X_train, X_test, y_train, y_test = train_test_split(X, y, test_size=0.2)"
   ]
  },
  {
   "cell_type": "code",
   "execution_count": 123,
   "metadata": {
    "colab": {
     "base_uri": "https://localhost:8080/"
    },
    "id": "TDsavn30lywA",
    "outputId": "d22db6a2-5303-47c5-eb8f-56c05fba7f1b"
   },
   "outputs": [
    {
     "data": {
      "text/plain": [
       "SVR(C=1000.0, gamma=0.1)"
      ]
     },
     "execution_count": 123,
     "metadata": {},
     "output_type": "execute_result"
    }
   ],
   "source": [
    "#training the Support Vector Machine (Regressor) \n",
    "svr_rbf = SVR(kernel='rbf', C=1e3, gamma=0.1) \n",
    "svr_rbf.fit(X_train, y_train)"
   ]
  },
  {
   "cell_type": "code",
   "execution_count": 124,
   "metadata": {
    "colab": {
     "base_uri": "https://localhost:8080/"
    },
    "id": "M-5B220omVLt",
    "outputId": "9021222a-e317-4b4c-db71-f8ac0740cc1a"
   },
   "outputs": [
    {
     "name": "stdout",
     "output_type": "stream",
     "text": [
      "Model Accuracy:  0.5715598332972887\n"
     ]
    }
   ],
   "source": [
    "#Finding accuracy of the model\n",
    "svm_confidence = svr_rbf.score(X_test, y_test)\n",
    "print(\"Model Accuracy: \", svm_confidence)\n"
   ]
  },
  {
   "cell_type": "markdown",
   "metadata": {
    "id": "WEUkTZDzoO-5"
   },
   "source": [
    "## RandomForest Classifier"
   ]
  },
  {
   "cell_type": "code",
   "execution_count": 111,
   "metadata": {
    "id": "YxEPCBetfZDt"
   },
   "outputs": [],
   "source": [
    "from sklearn.metrics import classification_report, accuracy_score\n",
    "from sklearn.ensemble import RandomForestClassifier"
   ]
  },
  {
   "cell_type": "code",
   "execution_count": 112,
   "metadata": {
    "colab": {
     "base_uri": "https://localhost:8080/"
    },
    "id": "5R8NZclLfZLT",
    "outputId": "0a87ec75-1138-44b8-d35a-f221271f8f39"
   },
   "outputs": [
    {
     "name": "stdout",
     "output_type": "stream",
     "text": [
      "Model Accuracy 0.8517520215633423\n",
      "              precision    recall  f1-score   support\n",
      "\n",
      "           0       0.85      0.85      0.85       185\n",
      "           1       0.85      0.85      0.85       186\n",
      "\n",
      "    accuracy                           0.85       371\n",
      "   macro avg       0.85      0.85      0.85       371\n",
      "weighted avg       0.85      0.85      0.85       371\n",
      "\n"
     ]
    }
   ],
   "source": [
    "X_train, X_test, y_train, y_test = train_test_split(X, y, test_size=0.30)\n",
    "# Training the model\n",
    "rfc = RandomForestClassifier(random_state=0)\n",
    "rfc = rfc.fit(X_train, y_train)\n",
    "# Testing the model by doing some predictions\n",
    "y_pred = rfc.predict(X_test)\n",
    "# Finding accuarcy of the model \n",
    "report = classification_report(y_test, y_pred)\n",
    "print('Model Accuracy', accuracy_score(y_test, y_pred, normalize=True))\n",
    "print(report)"
   ]
  },
  {
   "cell_type": "markdown",
   "metadata": {
    "id": "X3TLMV5bsPY7"
   },
   "source": [
    "## DecisionTree Classifier"
   ]
  },
  {
   "cell_type": "code",
   "execution_count": 113,
   "metadata": {
    "id": "elZC0WesqIdw"
   },
   "outputs": [],
   "source": [
    "from sklearn.tree import DecisionTreeClassifier\n",
    "from sklearn.metrics import classification_report, confusion_matrix"
   ]
  },
  {
   "cell_type": "code",
   "execution_count": 114,
   "metadata": {
    "colab": {
     "base_uri": "https://localhost:8080/"
    },
    "id": "j8HBSA9qqVS5",
    "outputId": "9be510fc-2303-405a-b651-bbe60565587b"
   },
   "outputs": [
    {
     "data": {
      "text/plain": [
       "DecisionTreeClassifier()"
      ]
     },
     "execution_count": 114,
     "metadata": {},
     "output_type": "execute_result"
    }
   ],
   "source": [
    "X_train, X_test, y_train, y_test = train_test_split(X, y, test_size=0.30)\n",
    "classifier = DecisionTreeClassifier()\n",
    "classifier.fit(X_train, y_train)"
   ]
  },
  {
   "cell_type": "code",
   "execution_count": 115,
   "metadata": {
    "id": "EPRPD7YqqgyE"
   },
   "outputs": [],
   "source": [
    "y_pred = classifier.predict(X_test)"
   ]
  },
  {
   "cell_type": "code",
   "execution_count": 116,
   "metadata": {
    "colab": {
     "base_uri": "https://localhost:8080/"
    },
    "id": "3jZdwx-Fqo42",
    "outputId": "2901e8f3-0aa1-408e-8050-596ed60bc29f"
   },
   "outputs": [
    {
     "name": "stdout",
     "output_type": "stream",
     "text": [
      "[[144  33]\n",
      " [ 33 161]]\n",
      "              precision    recall  f1-score   support\n",
      "\n",
      "           0       0.81      0.81      0.81       177\n",
      "           1       0.83      0.83      0.83       194\n",
      "\n",
      "    accuracy                           0.82       371\n",
      "   macro avg       0.82      0.82      0.82       371\n",
      "weighted avg       0.82      0.82      0.82       371\n",
      "\n"
     ]
    }
   ],
   "source": [
    "print(confusion_matrix(y_test, y_pred))\n",
    "print(classification_report(y_test, y_pred))"
   ]
  }
 ],
 "metadata": {
  "colab": {
   "name": "Avichal_DS303_project.ipynb",
   "provenance": []
  },
  "kernelspec": {
   "display_name": "Python 3",
   "language": "python",
   "name": "python3"
  },
  "language_info": {
   "codemirror_mode": {
    "name": "ipython",
    "version": 3
   },
   "file_extension": ".py",
   "mimetype": "text/x-python",
   "name": "python",
   "nbconvert_exporter": "python",
   "pygments_lexer": "ipython3",
   "version": "3.8.8"
  }
 },
 "nbformat": 4,
 "nbformat_minor": 1
}
